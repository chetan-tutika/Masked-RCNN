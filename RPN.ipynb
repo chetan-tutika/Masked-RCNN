{
  "nbformat": 4,
  "nbformat_minor": 0,
  "metadata": {
    "colab": {
      "name": "Copy of Copy of CIS680_Fall2019_HW3a.ipynb",
      "provenance": [],
      "collapsed_sections": [],
      "toc_visible": true,
      "machine_shape": "hm"
    },
    "kernelspec": {
      "name": "python3",
      "display_name": "Python 3"
    },
    "accelerator": "GPU"
  },
  "cells": [
    {
      "cell_type": "markdown",
      "metadata": {
        "id": "mHbNxdP6eLd2",
        "colab_type": "text"
      },
      "source": [
        "# Google Drive\n",
        "\n",
        "This first code block attaches your google drive and makes a folder structure. You only need to run this when a new VM is assigned to you. To get your code as a single python file go through the following menus File->'Download .py'.\n",
        "\n",
        "This also downloads the 4 files that contain the dataset:\n",
        "\n",
        "\n",
        "https://drive.google.com/open?id=1uBWazGxSZgWs70JjSWBu-KZwy5sAcxLh\n",
        "\n",
        "https://drive.google.com/open?id=18Bh2qwVwdDwu7JK_plrnpAz9KjA5gWkv\n",
        "\n",
        "https://drive.google.com/open?id=1K4eZGmbW0peZvcSRpgJeCSuI6A6PWZYz\n",
        "\n",
        "https://drive.google.com/open?id=1xIzQrhWrJeid1J8YLFMt8yigFVDA-N8a"
      ]
    },
    {
      "cell_type": "code",
      "metadata": {
        "id": "IDRvN60UA_xm",
        "colab_type": "code",
        "outputId": "5d06e784-950b-4681-af18-1dafac84857a",
        "colab": {
          "base_uri": "https://localhost:8080/",
          "height": 34
        }
      },
      "source": [
        "from google.colab import drive\n",
        "drive.mount('/content/drive')"
      ],
      "execution_count": 0,
      "outputs": [
        {
          "output_type": "stream",
          "text": [
            "Mounted at /content/drive\n"
          ],
          "name": "stdout"
        }
      ]
    },
    {
      "cell_type": "code",
      "metadata": {
        "id": "PYICcmTfdm0J",
        "colab_type": "code",
        "outputId": "79b874c3-cbe7-49a2-ac5d-28b8e6731f01",
        "colab": {
          "base_uri": "https://localhost:8080/",
          "height": 123
        }
      },
      "source": [
        "import os\n",
        "from google.colab import drive\n",
        "\n",
        "# Mount google drive\n",
        "DRIVE_MOUNT='/content/gdrive'\n",
        "drive.mount(DRIVE_MOUNT)\n",
        "\n",
        "\n",
        "# create folder to write data to\n",
        "CIS680_FOLDER=os.path.join(DRIVE_MOUNT, 'My Drive', 'CIS680_2019')\n",
        "HOMEWORK_FOLDER=os.path.join(CIS680_FOLDER, 'HW3a')\n",
        "os.makedirs(HOMEWORK_FOLDER, exist_ok=True)\n",
        "\n",
        "# bootstrap environment into place\n",
        "from google.colab import auth\n",
        "auth.authenticate_user()\n",
        "\n",
        "from googleapiclient.discovery import build\n",
        "drive_service = build('drive', 'v3')\n",
        "\n",
        "import io\n",
        "import os\n",
        "from googleapiclient.http import MediaIoBaseDownload\n",
        "\n",
        "def download_file(fn, file_id):\n",
        "    request = drive_service.files().get_media(fileId=file_id)\n",
        "    downloaded = io.BytesIO()\n",
        "    downloader = MediaIoBaseDownload(downloaded, request)\n",
        "    done = False\n",
        "    while done is False:\n",
        "        # _ is a placeholder for a progress object that we ignore.\n",
        "        # (Our file is small, so we skip reporting progress.)\n",
        "        _, done = downloader.next_chunk()\n",
        "    \n",
        "    downloaded.seek(0)\n",
        "\n",
        "    folder = fn.split('/')\n",
        "    if len(folder) > 1:\n",
        "        os.makedirs(folder[0], exist_ok=True)\n",
        "\n",
        "    with open(fn, 'wb') as f:\n",
        "        f.write(downloaded.read())\n",
        "\n",
        "id_to_fn = {\n",
        "'1uBWazGxSZgWs70JjSWBu-KZwy5sAcxLh': 'hw3_mycocodata_bboxes_comp_zlib.npy',\n",
        "'18Bh2qwVwdDwu7JK_plrnpAz9KjA5gWkv': 'hw3_mycocodata_img_comp_zlib.h5',\n",
        "'1K4eZGmbW0peZvcSRpgJeCSuI6A6PWZYz': 'hw3_mycocodata_labels_comp_zlib.npy',\n",
        "'1xIzQrhWrJeid1J8YLFMt8yigFVDA-N8a': 'hw3_mycocodata_mask_comp_zlib.h5',\n",
        "}\n",
        "\n",
        "# download all files into the vm\n",
        "for fid, fn in id_to_fn.items():\n",
        "    print(\"Downloading %s from %s\" % (fn, fid))\n",
        "    download_file(fn, fid)"
      ],
      "execution_count": 0,
      "outputs": [
        {
          "output_type": "stream",
          "text": [
            "Mounted at /content/gdrive\n",
            "Downloading hw3_mycocodata_bboxes_comp_zlib.npy from 1uBWazGxSZgWs70JjSWBu-KZwy5sAcxLh\n",
            "Downloading hw3_mycocodata_img_comp_zlib.h5 from 18Bh2qwVwdDwu7JK_plrnpAz9KjA5gWkv\n",
            "Downloading hw3_mycocodata_labels_comp_zlib.npy from 1K4eZGmbW0peZvcSRpgJeCSuI6A6PWZYz\n",
            "Downloading hw3_mycocodata_mask_comp_zlib.h5 from 1xIzQrhWrJeid1J8YLFMt8yigFVDA-N8a\n"
          ],
          "name": "stdout"
        }
      ]
    },
    {
      "cell_type": "code",
      "metadata": {
        "id": "aiXjUS93Lfrq",
        "colab_type": "code",
        "colab": {}
      },
      "source": [
        "import numpy as np\n",
        "import h5py\n",
        "import torch\n",
        "import torchvision\n",
        "from matplotlib import pyplot as plt\n",
        "from pdb import set_trace as debug\n",
        "from sklearn.model_selection import train_test_split\n",
        "import matplotlib.pyplot as plt\n",
        "from matplotlib.patches import Rectangle\n",
        "import matplotlib.ticker as plticker\n",
        "from torch.utils.data import Dataset, DataLoader\n",
        "from torchvision import transforms, utils\n",
        "import torch.nn as nn\n",
        "import torch.nn.functional as F\n",
        "import torch.optim as optim\n",
        "from tqdm import tnrange, tqdm_notebook\n",
        "from sklearn.metrics import recall_score\n",
        "from sklearn.metrics import precision_score"
      ],
      "execution_count": 0,
      "outputs": []
    },
    {
      "cell_type": "code",
      "metadata": {
        "id": "hguIwry8iH9S",
        "colab_type": "code",
        "colab": {}
      },
      "source": [
        "def mount_drive():\n",
        "  DRIVE_MOUNT='/content/gdrive'\n",
        "  drive.mount(DRIVE_MOUNT)\n",
        "\n",
        "\n",
        "  # create folder to write data to\n",
        "  CIS680_FOLDER=os.path.join(DRIVE_MOUNT, 'My Drive', 'CIS680_2019')\n",
        "  HOMEWORK_FOLDER=os.path.join(CIS680_FOLDER, 'HW3a')\n",
        "  os.makedirs(HOMEWORK_FOLDER, exist_ok=True)"
      ],
      "execution_count": 0,
      "outputs": []
    },
    {
      "cell_type": "code",
      "metadata": {
        "id": "iAaUyydXLFL5",
        "colab_type": "code",
        "colab": {}
      },
      "source": [
        "all_images_h5 = h5py.File('./hw3_mycocodata_img_comp_zlib.h5')\n",
        "all_image_data = all_images_h5.get(f'{list(all_images_h5.keys())[0]}').value\n",
        "\n",
        "all_mask_h5 = h5py.File('./hw3_mycocodata_mask_comp_zlib.h5')\n",
        "all_mask_data = all_mask_h5.get(f'{list(all_mask_h5.keys())[0]}').value\n",
        "\n",
        "all_bbox_data = np.load('./hw3_mycocodata_bboxes_comp_zlib.npy', allow_pickle=True)\n",
        "\n",
        "all_label_data = np.load('./hw3_mycocodata_labels_comp_zlib.npy', allow_pickle=True)"
      ],
      "execution_count": 0,
      "outputs": []
    },
    {
      "cell_type": "code",
      "metadata": {
        "id": "5_iIgZgEaGGR",
        "colab_type": "code",
        "colab": {}
      },
      "source": [
        "np.random.seed(9)\n",
        "torch.manual_seed(9)\n",
        "permute_index = np.arange(len(all_image_data))\n",
        "np.random.shuffle(permute_index)\n",
        "train_N = int(len(all_image_data)*0.85)\n",
        "\n",
        "train_ind, test_ind = permute_index[:train_N], permute_index[train_N:]"
      ],
      "execution_count": 0,
      "outputs": []
    },
    {
      "cell_type": "code",
      "metadata": {
        "id": "bbvca-gRLGmO",
        "colab_type": "code",
        "colab": {}
      },
      "source": [
        "train_image = all_image_data[train_ind]\n",
        "test_image = all_image_data[test_ind]\n",
        "\n",
        "train_mask = all_mask_data[train_ind]\n",
        "test_mask = all_mask_data[test_ind]\n",
        "\n",
        "train_bbox = all_bbox_data[train_ind]\n",
        "test_bbox = all_bbox_data[test_ind]\n",
        "\n",
        "train_label = all_label_data[train_ind]\n",
        "test_label = all_label_data[test_ind]"
      ],
      "execution_count": 0,
      "outputs": []
    },
    {
      "cell_type": "code",
      "metadata": {
        "id": "V030iQFAcOPw",
        "colab_type": "code",
        "colab": {}
      },
      "source": [
        ""
      ],
      "execution_count": 0,
      "outputs": []
    },
    {
      "cell_type": "code",
      "metadata": {
        "id": "7c-k3-zak8-5",
        "colab_type": "code",
        "colab": {}
      },
      "source": [
        "all_bbox_stack = np.concatenate(train_bbox, axis = 0)\n",
        "class_stack = np.concatenate(train_label, axis = 0)\n",
        "\n",
        "all_bbox_w = all_bbox_stack[:, 2] - all_bbox_stack[:, 0]\n",
        "all_bbox_h = all_bbox_stack[:, 3] - all_bbox_stack[:, 1]\n",
        "all_bbox_aspect = all_bbox_w / all_bbox_h\n",
        "all_bbox_scale = all_bbox_w / 400"
      ],
      "execution_count": 0,
      "outputs": []
    },
    {
      "cell_type": "code",
      "metadata": {
        "id": "FMt5wAqnvotR",
        "colab_type": "code",
        "outputId": "f15f2891-031d-4c57-b72f-954f131cc91a",
        "colab": {
          "base_uri": "https://localhost:8080/",
          "height": 851
        }
      },
      "source": [
        "## Plot Histogram\n",
        "histW,binsW = np.histogram(all_bbox_w)\n",
        "histH,binsH = np.histogram(all_bbox_h)\n",
        "histAs,binsAS = np.histogram(all_bbox_aspect) \n",
        "\n",
        "\n",
        "num_classes = 3\n",
        "class_stack = np.concatenate(train_label, axis = 0)\n",
        "\n",
        "\n",
        "\n",
        "class_bbox = class_stack\n",
        "n, bins, patches = plt.hist(x=all_bbox_scale, bins='auto', color='#0504aa',\n",
        "                            alpha=0.7, rwidth=0.85)\n",
        "\n",
        "plt.grid(axis='y', alpha=0.75)\n",
        "plt.xlabel('Value')\n",
        "plt.ylabel('Frequency')\n",
        "plt.title(f'Histogram W class')\n",
        "\n",
        "maxfreq = n.max()\n",
        "\n",
        "plt.ylim(ymax=np.ceil(maxfreq / 10) * 10 if maxfreq % 10 else maxfreq + 10)\n",
        "plt.savefig(f'../content/gdrive/My Drive/CIS680_2019/HW3a/Histogram_W.jpg')\n",
        "plt.show()\n",
        "\n",
        "n, bins, patches = plt.hist(x=all_bbox_h, bins='auto', color='#0504aa',\n",
        "                            alpha=0.7, rwidth=0.85)\n",
        "plt.grid(axis='y', alpha=0.75)\n",
        "plt.xlabel('Value')\n",
        "plt.ylabel('Frequency')\n",
        "plt.title(f'Histogram H class')\n",
        "\n",
        "maxfreq = n.max()\n",
        "\n",
        "# Set a clean upper y-axis limit.\n",
        "plt.ylim(ymax=np.ceil(maxfreq / 10) * 10 if maxfreq % 10 else maxfreq + 10)\n",
        "plt.savefig(f'../content/gdrive/My Drive/CIS680_2019/HW3a/Histogram_H.jpg')\n",
        "plt.show()\n",
        "\n",
        "n, bins, patches = plt.hist(x=all_bbox_aspect, bins=np.arange(0, 1.1, 0.1), color='#0504aa',\n",
        "                            alpha=0.7, rwidth=0.85)\n",
        "plt.grid(axis='y', alpha=0.75)\n",
        "plt.xlabel('Value')\n",
        "plt.ylabel('Frequency')\n",
        "plt.title(f'Histogram Aspect class')\n",
        "\n",
        "maxfreq = n.max()\n",
        "\n",
        "plt.ylim(ymax=np.ceil(maxfreq / 10) * 10 if maxfreq % 10 else maxfreq + 10)\n",
        "plt.savefig(f'../content/gdrive/My Drive/CIS680_2019/HW3a/Histogram_aspect.jpg')\n",
        "plt.show()"
      ],
      "execution_count": 0,
      "outputs": [
        {
          "output_type": "display_data",
          "data": {
            "image/png": "[encoded data removed]",
            "text/plain": [
              "<Figure size 432x288 with 1 Axes>"
            ]
          },
          "metadata": {
            "tags": []
          }
        },
        {
          "output_type": "display_data",
          "data": {
            "image/png": "[encoded data removed]",
            "text/plain": [
              "<Figure size 432x288 with 1 Axes>"
            ]
          },
          "metadata": {
            "tags": []
          }
        },
        {
          "output_type": "display_data",
          "data": {
            "image/png": "[encoded data removed]",
            "text/plain": [
              "<Figure size 432x288 with 1 Axes>"
            ]
          },
          "metadata": {
            "tags": []
          }
        }
      ]
    },
    {
      "cell_type": "code",
      "metadata": {
        "id": "2-OB9V5NLHxl",
        "colab_type": "code",
        "colab": {}
      },
      "source": [
        "## Get Anchors"
      ],
      "execution_count": 0,
      "outputs": []
    },
    {
      "cell_type": "code",
      "metadata": {
        "id": "tu7PmDgJgEgS",
        "colab_type": "code",
        "colab": {}
      },
      "source": [
        "def get_anchors(Scale, Asp, lab):\n",
        "  anchor_ar = np.zeros(2)\n",
        "  # class_bbox = np.where(class_stack == i+1)[0]\n",
        "  histW,binsW = np.histogram(Scale, bins = 'auto')\n",
        "  histAs,binsAs = np.histogram(Asp, bins = 'auto')\n",
        "  wAvg = (binsW[:-1] + binsW[1:]) / 2\n",
        "  asAvg = (binsAs[:-1] + binsAs[1:]) / 2\n",
        "  anchor_ar[0], anchor_ar[1] = wAvg[np.argmax(histW)], asAvg[np.argmax(histAs)]\n",
        "  return anchor_ar"
      ],
      "execution_count": 0,
      "outputs": []
    },
    {
      "cell_type": "code",
      "metadata": {
        "id": "AmwxOCAXX_jQ",
        "colab_type": "code",
        "colab": {}
      },
      "source": [
        "def IoU_func(box1, box2, min_clip = 0, max_clip = 127, debug_flag = False):\n",
        "  if len(box1.shape) > 1:\n",
        "    x1, y1, w1, h1 = box1[:, 0], box1[:, 1], box1[:, 2], box1[:, 3]\n",
        "  else:\n",
        "    x1, y1, w1, h1 = box1[0:4]\n",
        "  if len(box2.shape) > 1:\n",
        "    x2, y2, w2, h2 = box2[:, 0], box2[:, 1], box2[:, 2], box2[:, 3]\n",
        "  \n",
        "  else:\n",
        "    x2, y2, w2, h2 = box2[0:4]\n",
        "    \n",
        "  if debug_flag:\n",
        "    debug()\n",
        "    \n",
        "  top_x1, bottom_x1, top_y1, bottom_y1 = x1 - w1/2.0, x1 + w1/2.0, y1 - h1/2.0, y1 + h1/2.0\n",
        "\n",
        "  top_x2, bottom_x2, top_y2, bottom_y2 = x2 - w2/2.0, x2 + w2 /2.0, y2 - h2/2.0, y2 + h2/2.0\n",
        "  \n",
        "  xA, xB = np.maximum(top_x1, top_x2), np.minimum(bottom_x1, bottom_x2)\n",
        "  \n",
        "  yA, yB = np.maximum(top_y1, top_y2), np.minimum(bottom_y1, bottom_y2)\n",
        "  \n",
        "  interArea_x = np.maximum(0, xB - xA + 1) \n",
        "  interArea_y = np.maximum(0, yB - yA + 1)\n",
        "  \n",
        "  interArea = interArea_x*interArea_y\n",
        "  boxAArea = (bottom_x1 - top_x1 + 1) * (bottom_y1 - top_y1 + 1)\n",
        "  boxBArea = (bottom_x2 - top_x2 + 1) * (bottom_y2 - top_y2 + 1)\n",
        "  if debug_flag:\n",
        "    debug()\n",
        "  \n",
        "  iou = interArea / (boxAArea + boxBArea - interArea)\n",
        "  \n",
        "  if debug_flag:\n",
        "    debug()\n",
        "  \n",
        "  return iou"
      ],
      "execution_count": 0,
      "outputs": []
    },
    {
      "cell_type": "code",
      "metadata": {
        "id": "ga0aVJR9yJcS",
        "colab_type": "code",
        "colab": {}
      },
      "source": [
        "def anchor_xywh(my_x, my_y, an_w, an_as, shape_factor = 1,step = 16):\n",
        "  real_x, real_y = step*my_y + step/2, step*my_x + step/2\n",
        "\n",
        "  if shape_factor > 1:\n",
        "    real_w = np.repeat(an_w, len(real_x))\n",
        "    real_h = np.repeat(an_w/an_as, len(real_x))\n",
        "\n",
        "    return np.concatenate([real_x.reshape(-1, 1), real_y.reshape(-1, 1), real_w.reshape(-1, 1), real_h.reshape(-1, 1)], axis = 1)\n",
        "  else:\n",
        "    real_w = an_w\n",
        "    real_h = an_w/an_as\n",
        "    return np.array([real_x, real_y, real_w, real_h])\n",
        "\n",
        "def true_xywh(truth):\n",
        "\n",
        "  if len(truth.shape) > 1:\n",
        "    x_cent, y_cent = (truth[:, 0] + truth[:, 2])/2, (truth[:, 1] + truth[:, 3])/2\n",
        "    W, H = truth[:, 2] - truth[:, 0], truth[:, 3] - truth[:, 1]\n",
        "    return np.concatenate([x_cent.reshape(-1, 1), y_cent.reshape(-1, 1), W.reshape(-1, 1), H.reshape(-1, 1)], axis = 1)\n",
        "\n",
        "  else:\n",
        "    x_cent, y_cent = (truth[0] + truth[2])/2, (truth[1] + truth[3])/2\n",
        "    W, H = truth[2] - truth[0], truth[3] - truth[1]\n",
        "\n",
        "    return np.array([x_cent, y_cent, W, H])\n",
        "\n",
        "\n",
        "def format_labels(ini_labels, anchor_w, anchor_asp, true_label, \n",
        "                  n_classes = 3, step = 16.0, \n",
        "                  im_w = 400, im_h = 300, subSample = False):\n",
        "  \n",
        "  label_array = np.full([len(ini_labels), 18, 25, 8], -1)\n",
        "  label_array[:, :, :, 1:] = 0\n",
        "  anchor_w = anchor_w*im_w\n",
        "\n",
        "\n",
        "\n",
        "  for i, cur_label in enumerate(ini_labels):\n",
        "\n",
        "    lab1 = true_label[i]\n",
        "\n",
        "    X, Y = np.where(label_array[i, :, :, 0] == -1)\n",
        "\n",
        "\n",
        "    for j in range(len(cur_label)):\n",
        "      anchorXYWH = anchor_xywh(X, Y, anchor_w, anchor_asp, shape_factor = len(X))\n",
        "\n",
        "      label_vec = lab1[j].astype(int) - 1\n",
        "      one_hot = np.eye(n_classes)[label_vec]\n",
        "\n",
        "      trueXYWH = true_xywh(cur_label[j])\n",
        "\n",
        "\n",
        "      IoU_anc = IoU_func(trueXYWH.reshape(1, -1), anchorXYWH, debug_flag=False)\n",
        "\n",
        "      obj_index = np.where(IoU_anc > 0.7)[0]\n",
        "\n",
        "      if len(obj_index) == 0:\n",
        "        obj_index = np.where(np.around(IoU_anc, decimals=5) == np.max(np.around(IoU_anc, decimals=5)))\n",
        "\n",
        "\n",
        "      one_indexX, one_indexY = X[obj_index], Y[obj_index]\n",
        "      label_array[i, one_indexX, one_indexY, 0] = 1\n",
        "      label_array[i, one_indexX, one_indexY, 1:5] = trueXYWH\n",
        "      label_array[i, one_indexX, one_indexY, 5:] = one_hot\n",
        "\n",
        "\n",
        "\n",
        "    X, Y = np.where(label_array[i, :, :, 0] != 1)\n",
        "    anchorXYWH = anchor_xywh(X, Y, anchor_w, anchor_asp, shape_factor = len(X))\n",
        "    zero_index = np.where((anchorXYWH[:, 0] - anchor_w/2 >= 0) & \n",
        "                              (anchorXYWH[:, 0] + anchor_w/2 <= im_w) & \n",
        "                              (anchorXYWH[:, 1] - (anchor_w/anchor_asp)/2 >= 0) &\n",
        "                              (anchorXYWH[:, 1] + (anchor_w/anchor_asp)/2 <= im_h))[0]\n",
        "\n",
        "    X, Y = X[zero_index], Y[zero_index]\n",
        "\n",
        "    prev_mask_flag = None\n",
        "    true_mask_flag = None\n",
        "    for j in range(len(cur_label)):\n",
        "      mask = np.zeros([18, 25])\n",
        "      anchorXYWH = anchor_xywh(X, Y, anchor_w, anchor_asp, shape_factor = len(X))\n",
        "      trueXYWH = true_xywh(cur_label[j])\n",
        "\n",
        "      IoU_anc = IoU_func(trueXYWH, anchorXYWH)\n",
        "\n",
        "      obj_index = np.where(IoU_anc < 0.3)[0]\n",
        "\n",
        "      one_indexX, one_indexY = X[obj_index], Y[obj_index]\n",
        "      mask[one_indexX, one_indexY] = 1\n",
        "      if prev_mask_flag:\n",
        "        true_mask = prev_mask*mask\n",
        "        true_mask_flag = True\n",
        "\n",
        "      prev_mask = mask\n",
        "      prev_mask_flag = True\n",
        "    if true_mask_flag:\n",
        "      zero_x, zero_y = np.where(true_mask == 1)\n",
        "    else:\n",
        "      zero_x, zero_y = np.where(prev_mask == 1)\n",
        "    label_array[i, zero_x, zero_y, 0] = 0\n",
        "\n",
        "    if subSample:\n",
        "      label_array[i, :, :, 0] = sub_sample(label_array[i, :, :, 0])\n",
        "  \n",
        "  return label_array"
      ],
      "execution_count": 0,
      "outputs": []
    },
    {
      "cell_type": "code",
      "metadata": {
        "id": "3pMcJRdhzJtT",
        "colab_type": "code",
        "colab": {}
      },
      "source": [
        "anchors = get_anchors(all_bbox_scale, all_bbox_aspect, class_stack)\n"
      ],
      "execution_count": 0,
      "outputs": []
    },
    {
      "cell_type": "code",
      "metadata": {
        "id": "f17dLUraUBbF",
        "colab_type": "code",
        "colab": {}
      },
      "source": [
        "rpn_labels_ = format_labels(train_bbox, anchors[0], anchors[1], train_label, subSample=False)"
      ],
      "execution_count": 0,
      "outputs": []
    },
    {
      "cell_type": "code",
      "metadata": {
        "id": "oQAnLl1DCdK2",
        "colab_type": "code",
        "colab": {}
      },
      "source": [
        "\n",
        "def my_collate(batch):\n",
        "\n",
        "  data = [item[0].unsqueeze(0) for item in batch]\n",
        "  target = [item[1] for item in batch]\n",
        "\n",
        "  rpn = [item[2].unsqueeze(0) for item in batch]\n",
        "  actual_bbox = [item[3] for item in batch]\n",
        "  return [torch.cat(data), torch.cat(rpn), target, actual_bbox]\n",
        "  \n",
        "class HW3Dataset(torch.utils.data.Dataset):\n",
        "  def __init__(self, image_file, label_file, bbox_file, mask_file,anchors_file,transform = None):\n",
        "    assert isinstance(image_file, np.ndarray) and isinstance(image_file, np.ndarray), 'image_file and label_file should be of numpy array format'\n",
        "    assert len(image_file) == len(label_file), 'images and labels are differnt sizes'\n",
        "    \n",
        "    \n",
        "    self.images = image_file\n",
        "    self.labels = label_file\n",
        "    self.rpn_label = format_labels(bbox_file, anchors_file[0], anchors_file[1], label_file, subSample=False)\n",
        "    self.actual_bbox = bbox_file\n",
        "    self.mask = mask_file\n",
        "    self.transform = transform\n",
        "    \n",
        "  def __len__(self):\n",
        "    return len(self.images)\n",
        "    \n",
        "    \n",
        "  def __getitem__(self, index):\n",
        "    sample_image = self.images[index]\n",
        "    sample_label = self.labels[index]\n",
        "    sample_rpn = self.rpn_label[index]\n",
        "    sample_actual_box = self.actual_bbox[index]\n",
        "\n",
        "    \n",
        "    if self.transform:\n",
        "      sample_image = self.transform(torch.from_numpy(sample_image/255.0))\n",
        "            \n",
        "    return (sample_image, torch.from_numpy(sample_label), torch.from_numpy(sample_rpn), torch.from_numpy(sample_actual_box))\n",
        "  "
      ],
      "execution_count": 0,
      "outputs": []
    },
    {
      "cell_type": "code",
      "metadata": {
        "id": "KcH6WgTmDt0R",
        "colab_type": "code",
        "colab": {}
      },
      "source": [
        "transform_ = transforms.Compose([transforms.Normalize((0.5, 0.5, 0.5), (0.5, 0.5, 0.5))])"
      ],
      "execution_count": 0,
      "outputs": []
    },
    {
      "cell_type": "code",
      "metadata": {
        "id": "N__zrJh1D0At",
        "colab_type": "code",
        "colab": {}
      },
      "source": [
        "dataset_train_hw3 = HW3Dataset(image_file = train_image, label_file =train_label,\n",
        "                                bbox_file = train_bbox, mask_file = train_mask, \n",
        "                               anchors_file = anchors,\n",
        "                         transform = transform_)"
      ],
      "execution_count": 0,
      "outputs": []
    },
    {
      "cell_type": "code",
      "metadata": {
        "id": "w28aEO4MSytr",
        "colab_type": "code",
        "colab": {}
      },
      "source": [
        "dataset_test_hw3 = HW3Dataset(image_file = test_image, label_file =test_label,\n",
        "                                bbox_file = test_bbox, mask_file = test_mask, \n",
        "                               anchors_file = anchors,\n",
        "                         transform = transform_)"
      ],
      "execution_count": 0,
      "outputs": []
    },
    {
      "cell_type": "code",
      "metadata": {
        "id": "InF6Z4bkFC-T",
        "colab_type": "code",
        "colab": {}
      },
      "source": [
        "dataloader_train_hw3 = DataLoader(dataset_train_hw3, batch_size=32,\n",
        "                        shuffle=True, num_workers=4, collate_fn=my_collate)"
      ],
      "execution_count": 0,
      "outputs": []
    },
    {
      "cell_type": "code",
      "metadata": {
        "id": "XP5sH7wpTGPQ",
        "colab_type": "code",
        "colab": {}
      },
      "source": [
        "dataloader_test_hw3 = DataLoader(dataset_test_hw3, batch_size=32,\n",
        "                        shuffle=True, num_workers=4, collate_fn=my_collate)"
      ],
      "execution_count": 0,
      "outputs": []
    },
    {
      "cell_type": "markdown",
      "metadata": {
        "id": "gOkeza5Mgou_",
        "colab_type": "text"
      },
      "source": [
        "# Dataset test\n",
        "\n"
      ]
    },
    {
      "cell_type": "code",
      "metadata": {
        "id": "czpCwWgmh7AD",
        "colab_type": "code",
        "colab": {}
      },
      "source": [
        "def pre_process_test(index, test_images, actual_labels, processed_labels,\n",
        "                     anchor_w, anchor_asp,\n",
        "                    step = 16, w_im = 400, h_im = 300, normalized = False):\n",
        "  \n",
        "  actual_label = actual_labels[index]\n",
        "  processed_label = processed_labels[index]\n",
        "  test_image = test_images[index]\n",
        "  anchor_w = anchor_w*w_im\n",
        "  print(len(processed_label[processed_label[:, :, 0] == 0]), len(processed_label[processed_label[:, :, 0] == 1]), len(processed_label[processed_label[:, :, 0] == -1]))\n",
        "  \n",
        "  if isinstance(test_image, torch.Tensor):\n",
        "    if normalized:\n",
        "      re_norm = transforms.Compose([transforms.Normalize(mean=[-1,-1,-1],std=[2,2,2])])\n",
        "      test_image = re_norm(test_image).numpy()*255.0\n",
        "    processed_label = processed_label.numpy()\n",
        "      \n",
        "  if len(test_image) <= 3:\n",
        "    test_image = np.transpose(test_image, (1, 2, 0))\n",
        "  \n",
        "  ctest_image = test_image.copy()\n",
        "\n",
        "  grid_color = -1\n",
        "\n",
        "  \n",
        "  plt.figure(figsize = (7,10))\n",
        "  plt.imshow(ctest_image, interpolation='nearest')\n",
        "\n",
        "  ax = plt.gca()\n",
        "\n",
        "\n",
        "\n",
        "  for i in range(len(actual_label)):\n",
        "\n",
        "\n",
        "    rect = Rectangle((actual_label[i,0],actual_label[i,1]),\n",
        "                     actual_label[i,2] - actual_label[i,0],\n",
        "                     actual_label[i,3] - actual_label[i,1],\n",
        "                     linewidth=2,edgecolor='r',facecolor='none'\n",
        "                     )\n",
        "\n",
        "\n",
        "    ax.add_patch(rect)\n",
        "\n",
        "\n",
        "  ## Plot based on transformed image\n",
        "  \n",
        "  object_x, object_y = np.where(processed_label[:, :, 0] == 1)\n",
        "\n",
        "  for i, (x,y) in enumerate(zip(object_x, object_y)):\n",
        "    \n",
        "    top_x, top_y = x*16 + step/2 -(anchor_w/anchor_asp)/2, y*16 + step/2 - anchor_w/2\n",
        "\n",
        "    rect = Rectangle((top_y,top_x),\n",
        "                     anchor_w, anchor_w/anchor_asp,\n",
        "                     linewidth=2,edgecolor= 'b',\n",
        "                     facecolor='none')\n",
        "\n",
        "    ax.add_patch(rect)\n",
        "\n",
        "  plt.savefig(f'../content/gdrive/My Drive/CIS680_2019/HW3a/test_preprocess.jpg')\n",
        "\n",
        "\n",
        "  plt.show()"
      ],
      "execution_count": 0,
      "outputs": []
    },
    {
      "cell_type": "code",
      "metadata": {
        "id": "FG8b31WxzYMe",
        "colab_type": "code",
        "colab": {}
      },
      "source": [
        "pre_process_test(2, train_image, train_bbox, rpn_labels_, anchors[0], anchors[1])"
      ],
      "execution_count": 0,
      "outputs": []
    },
    {
      "cell_type": "markdown",
      "metadata": {
        "id": "zDRbZRAsh7km",
        "colab_type": "text"
      },
      "source": [
        "# Model Definition"
      ]
    },
    {
      "cell_type": "code",
      "metadata": {
        "id": "auuQRjUIh_5Z",
        "colab_type": "code",
        "colab": {}
      },
      "source": [
        "class FasterRCNN(torch.nn.Module):\n",
        "  def __init__(self):\n",
        "    super().__init__()\n",
        "    \n",
        "    self.pool = nn.MaxPool2d((2,2), stride=2, padding = 0)\n",
        "    \n",
        "    self.conv1 = nn.Conv2d(in_channels=3, out_channels=16,\n",
        "                               kernel_size=5,\n",
        "                               padding = (2,2))\n",
        "    self.conv1_bn = nn.BatchNorm2d(16)\n",
        "    \n",
        "    self.conv2 = nn.Conv2d(in_channels=16, out_channels=32,\n",
        "                               kernel_size=5,\n",
        "                                padding = (2,2))\n",
        "    self.conv2_bn = nn.BatchNorm2d(32)\n",
        "    \n",
        "    self.conv3 = nn.Conv2d(in_channels=32, out_channels=64,\n",
        "                               kernel_size=5,\n",
        "                               padding = (2,2))\n",
        "    self.conv3_bn = nn.BatchNorm2d(64)\n",
        "    \n",
        "    self.conv4 = nn.Conv2d(in_channels=64, out_channels=128,\n",
        "                               kernel_size=5,\n",
        "                               padding = (2,2))\n",
        "    self.conv4_bn = nn.BatchNorm2d(128)\n",
        "    \n",
        "    self.conv5 = nn.Conv2d(in_channels=128, out_channels=256,\n",
        "                               kernel_size=5,\n",
        "                               padding = (2,2))\n",
        "    self.conv5_bn = nn.BatchNorm2d(256)\n",
        "    \n",
        "    self.conv_intermediate = nn.Conv2d(in_channels=256, out_channels=256,\n",
        "                               kernel_size=3,\n",
        "                               padding = (1,1))\n",
        "    self.conv_intermediate_bn = nn.BatchNorm2d(256)\n",
        "    \n",
        "    \n",
        "    self.conv_object = nn.Conv2d(in_channels=256, out_channels=1,\n",
        "                               kernel_size=1)\n",
        "    \n",
        "    self.conv_region = nn.Conv2d(in_channels=256, out_channels=4,\n",
        "                               kernel_size=1)\n",
        "    \n",
        "    \n",
        "    \n",
        "    \n",
        "    \n",
        "  def forward(self, x):\n",
        "    \n",
        "    out1 = self.pool(F.relu(self.conv1_bn(self.conv1(x))))\n",
        "\n",
        "    out2 = self.pool(F.relu(self.conv2_bn(self.conv2(out1))))\n",
        "    \n",
        "\n",
        "    out3 = self.pool(F.relu(self.conv3_bn(self.conv3(out2))))\n",
        "    out4 = self.pool(F.relu(self.conv4_bn(self.conv4(out3))))\n",
        "    out5 = F.relu(self.conv5_bn(self.conv5(out4)))\n",
        "    intermediate = F.relu(self.conv_intermediate_bn(self.conv_intermediate(out5)))\n",
        "    out_object = torch.sigmoid(self.conv_object(intermediate))\n",
        "    out_region = self.conv_region(intermediate)\n",
        "\n",
        "    \n",
        "    return out_object, out_region"
      ],
      "execution_count": 0,
      "outputs": []
    },
    {
      "cell_type": "markdown",
      "metadata": {
        "id": "EvNh3B3FiAPY",
        "colab_type": "text"
      },
      "source": [
        "# Train your network\n",
        "\n"
      ]
    },
    {
      "cell_type": "code",
      "metadata": {
        "id": "HFbBeKtdY60m",
        "colab_type": "code",
        "colab": {}
      },
      "source": [
        "def test(net, device,optimizer, criterion1, criterion2, test_loader, \n",
        "         anchor_w, anchor_asp):\n",
        "  net.eval()\n",
        "  with torch.no_grad():\n",
        "      corr = 0\n",
        "      total = 0\n",
        "      test_loss = 0\n",
        "      prec_epoch = 0\n",
        "      rec_epoch = 0\n",
        "\n",
        "      for i, (images_te, rpn_labels_te, labels_te, actual_boxes_te) in enumerate(test_loader):\n",
        "      \n",
        "\n",
        "          images_te = images_te.float().to(device)\n",
        "          rpn_labels_te = rpn_labels_te.float().to(device)\n",
        "          outputs_obj, outputs_region = net(images_te)\n",
        "          loss_obj = bce_loss(outputs_obj, rpn_labels_te, criterion1)\n",
        "          loss_reg = criterion2(outputs_region, rpn_labels_te, anchor_w, anchor_asp, device = device)\n",
        "\n",
        "          preci, reca = calculate_precision_recall_object(outputs_obj, rpn_labels_te[:, :, :, 0])\n",
        "          prec_epoch += preci.item()\n",
        "          rec_epoch += reca.item()\n",
        "\n",
        "  return prec_epoch / len(test_loader), rec_epoch / len(test_loader)\n",
        "\n",
        "  \n",
        "def fastrcnn_loss(X, rpn_label, anchor_w, anchor_asp, device):\n",
        "\n",
        "  Xp = X.permute(0,2,3,1)\n",
        "  ind_Z, ind_X, ind_Y = torch.where(rpn_label[:, :, :, 0] == 1)\n",
        "\n",
        "  x = Xp[ind_Z, ind_X, ind_Y, :]\n",
        "  x_a = anchor_xywh(ind_X.cpu(), ind_Y.cpu(), anchor_w, anchor_asp, shape_factor = len(X))\n",
        "\n",
        "  x_a = torch.from_numpy(x_a).to(device) #/ torch.tensor([400, 300, 400, 300]).float().to(device)\n",
        "  x_star = rpn_label[ind_Z, ind_X, ind_Y, 1:5] #/ torch.tensor([400, 300, 400, 300]).float().to(device)\n",
        "  anchor_h = ((anchor_w/anchor_asp)).astype(np.float32)\n",
        "  anchor_w = (anchor_w).astype(np.float32)\n",
        "  x_a = x_a.float()\n",
        "  x_star = x_star.float()\n",
        "\n",
        "  tx = x[:, 0]\n",
        "  ty =  x[:, 1]\n",
        "  tw, th = x[:, 2], x[:, 3]\n",
        "  \n",
        "  tsx, tsy = (x_star[:, 0] - x_a[:, 0])/(anchor_w), (x_star[:, 1] - x_a[:, 1])/(anchor_h)\n",
        "  tsw, tsh = torch.log(x_star[:, 2]/anchor_w), torch.log(x_star[:, 3]/anchor_h)\n",
        "\n",
        "\n",
        "  l1 = F.smooth_l1_loss(tx, tsx, reduction = 'mean')\n",
        "  l2 =  F.smooth_l1_loss(ty, tsy, reduction = 'mean')\n",
        "  l3 =  F.smooth_l1_loss(tw, tsw, reduction = 'mean')\n",
        "  l4 =  F.smooth_l1_loss(th, tsh, reduction = 'mean')\n",
        "\n",
        "\n",
        "  return (l1 + l2 + l3 + l4)/4.0\n",
        "\n",
        "\n",
        "def sub_sample(chanX, chanY, thresh1 = 50, thresh0 = 50):\n",
        "\n",
        "  mask_minus1 = (chanY >=0)\n",
        "\n",
        "  chanX10, chanY10 = chanX[mask_minus1],chanY[mask_minus1]\n",
        "\n",
        "  len_1, len_0 = torch.sum(chanY10 == 1), torch.sum(chanY10 == 0)\n",
        "\n",
        "  n_index = (chanY10 == 0).nonzero()\n",
        "\n",
        "  if len_0 <= len_1:\n",
        "    return chanX10, chanY10\n",
        "  \n",
        "  if len_1 < thresh1 and len_0 > int(thresh1 + thresh0):\n",
        "    ignore_index_ = np.random.choice(n_index.cpu().view(-1), size = len_0 - int(thresh1 + thresh0))\n",
        "    chanY10[n_index[ignore_index_]] = -1\n",
        "    new_mask = (chanY10 > 0)\n",
        "\n",
        "    return chanX10[new_mask], chanY10[new_mask]\n",
        "  assert len_1 < len_0, 'len_1 > len_0'\n",
        "  ignore_index_ = np.random.choice(n_index.cpu().view(-1), size = int(len_0 -  len_1), replace = False)\n",
        "\n",
        "  chanY10[ignore_index_] = -1\n",
        "  new_mask = (chanY10 >= 0)\n",
        "\n",
        "\n",
        "  return chanX10[new_mask], chanY10[new_mask]\n",
        "\n",
        "\n",
        "def bce_loss(X, Y, criterion, subSample = False):\n",
        "\n",
        "  X = X.squeeze(1)\n",
        "  ind_z, ind_x, ind_y = torch.where(Y[:, :, :,0] != -1)\n",
        "  Y_new = Y[ind_z, ind_x, ind_y, 0]\n",
        "  X_new = X[ind_z, ind_x, ind_y]\n",
        "  if subSample:\n",
        "    X_new, Y_new = sub_sample(X, Y[:, :, :, 0])\n",
        "  return criterion(X_new, Y_new)\n",
        "\n",
        "def calculate_precision_recall_object(predict, true_val):\n",
        "  predict = predict.squeeze(1).clone().detach()\n",
        "\n",
        "  true1_Z, true1_X, true1_Y = torch.where(true_val == 1)\n",
        "  true1 = true_val[true1_Z, true1_X, true1_Y]\n",
        "  predict1 = tresh_pred[true1_Z, true1_X, true1_Y]\n",
        "  tp = torch.sum((true1 == predict1).float())\n",
        "  fn = torch.sum((true1 != predict1).float())\n",
        "  true0_Z, true0_X, true0_Y = torch.where((true_val == 0) | (true_val == -2))\n",
        "  true0 = true_val[true0_Z, true0_X, true0_Y]\n",
        "  predict0 = tresh_pred[true0_Z, true0_X, true0_Y]\n",
        "\n",
        "  fp = torch.sum((true0 != predict0).float())\n",
        "\n",
        "  prec = tp / (tp + fp)\n",
        "  rec = tp /(fn + tp)\n",
        "\n",
        "  return prec, rec\n",
        "\n",
        "\n",
        "\n",
        "  \n",
        "  \n",
        "def train(net, device, optimizer, criterion1, criterion2, train_loader, \n",
        "          test_loader,epochs,anchor_w, anchor_asp,\n",
        "         batch_size = 16, im_w = 400, im_h = 300):\n",
        "    total_step = len(train_loader)\n",
        "    overall_step = 0\n",
        "    training_loss = []\n",
        "    validation_loss = []\n",
        "    training_error = []\n",
        "    validation_error = []\n",
        "    meanOfmAP = []\n",
        "    wMap = []\n",
        "    mean1 = []\n",
        "    mean2 = []\n",
        "    mean3 = []\n",
        "    prev_prec = -999999.0\n",
        "\n",
        "    anchor_w = anchor_w*im_w\n",
        "    for epoch in tnrange(epochs):\n",
        "        train_error = 0\n",
        "        total_tr = 0\n",
        "        train_loss_obj = 0\n",
        "        train_loss_reg = 0\n",
        "        train_loss = 0\n",
        "        all_labels = []\n",
        "        all_predicts = []\n",
        "        prec_epoch = 0\n",
        "        rec_epoch = 0\n",
        "        prec_epochTest = 0\n",
        "        rec_epochTest = 0\n",
        "        precision_epoch = []\n",
        "        recall_epoch = []\n",
        "        \n",
        "        net.train()\n",
        "        for i, (images, rpn_labels, labels, actual_boxes) in enumerate(tqdm_notebook(train_loader)):\n",
        "            \n",
        "\n",
        "            images = images.float().to(device)\n",
        "            rpn_labels = rpn_labels.float().to(device)\n",
        "            outputs_obj, outputs_region = net(images)\n",
        "            loss_obj = bce_loss(outputs_obj, rpn_labels, criterion1, subSample=True)\n",
        "            loss_reg = criterion2(outputs_region, rpn_labels, anchor_w, anchor_asp, device = device)\n",
        "            optimizer.zero_grad()\n",
        "            loss_rpn =  loss_obj + loss_reg\n",
        "            loss_rpn.backward()\n",
        "\n",
        "            \n",
        "            optimizer.step()\n",
        "     \n",
        "            train_loss += loss_rpn.item()\n",
        "            train_loss_obj = loss_obj.item()\n",
        "            train_loss_reg = loss_reg.item()\n",
        "            preci, reca = calculate_precision_recall_object(outputs_obj, rpn_labels[:, :, :, 0])\n",
        "            prec_epoch += preci.item()\n",
        "            rec_epoch += reca.item()\n",
        "\n",
        "        preciTest, recaTest = test(net, device, optimizer, criterion1, \n",
        "                               criterion2, test_loader, anchor_w, anchor_asp) \n",
        "        prec_epochTest = preciTest\n",
        "        rec_epochTest = recaTest\n",
        "        training_loss.append([train_loss / len(train_loader), train_loss_obj / len(train_loader), train_loss_reg / len(train_loader)])\n",
        "        \n",
        "        if prev_prec < prec_epochTest:\n",
        "          mount_drive()\n",
        "          # \n",
        "          prev_prec = prec_epochTest\n",
        "        \n",
        "\n",
        "        print(f'\\ntrain loss {train_loss / len(train_loader)} \\n precision {prec_epoch / len(train_loader)}\\n recall {rec_epoch / len(train_loader)}')\n",
        "        print(f'\\n precision Test {prec_epochTest}\\n recall Test {rec_epochTest}')\n",
        "\n",
        "    precision_epoch, recall_epoch = test(net, device, optimizer, criterion1, criterion2, test_loader, anchor_w, anchor_asp)  \n",
        "    return training_loss, precision_epoch, recall_epoch\n",
        "\n",
        "  \n"
      ],
      "execution_count": 0,
      "outputs": []
    },
    {
      "cell_type": "code",
      "metadata": {
        "id": "mgPsKwuEY8PJ",
        "colab_type": "code",
        "colab": {}
      },
      "source": [
        "device = torch.device('cuda' if torch.cuda.is_available() else 'cpu')\n"
      ],
      "execution_count": 0,
      "outputs": []
    },
    {
      "cell_type": "code",
      "metadata": {
        "id": "zjXd9scAZBaf",
        "colab_type": "code",
        "colab": {}
      },
      "source": [
        "model = FasterRCNN().to(device)\n",
        "epochs = 50\n",
        "criterion1 = nn.BCELoss()\n",
        "criterion2 = fastrcnn_loss\n",
        "optimizer = optim.Adam(model.parameters(), lr = 1e-03)"
      ],
      "execution_count": 0,
      "outputs": []
    },
    {
      "cell_type": "code",
      "metadata": {
        "id": "LPk00VKXZ6Fn",
        "colab_type": "code",
        "colab": {}
      },
      "source": [
        "t_loss, psion, rcall = train(model, device,optimizer, criterion1, criterion2, \n",
        "              dataloader_train_hw3, dataloader_test_hw3, epochs, anchors[0],anchors[1])"
      ],
      "execution_count": 0,
      "outputs": []
    },
    {
      "cell_type": "code",
      "metadata": {
        "id": "PxlbNCihzhHx",
        "colab_type": "code",
        "colab": {}
      },
      "source": [
        "reload_model = torch.load('../content/gdrive/My Drive/CIS680_2019/HW3a/rpn_model_subsampleMin3.pt')\n"
      ],
      "execution_count": 0,
      "outputs": []
    },
    {
      "cell_type": "code",
      "metadata": {
        "id": "vp_UsnIWdZS-",
        "colab_type": "code",
        "colab": {}
      },
      "source": [
        "test(reload_model, device, optimizer, criterion1, criterion2, dataloader_test_hw3, anchors[0]*400, anchors[1])  "
      ],
      "execution_count": 0,
      "outputs": []
    },
    {
      "cell_type": "code",
      "metadata": {
        "id": "94KnhRpJDA6H",
        "colab_type": "code",
        "colab": {}
      },
      "source": [
        "plt.plot(t_loss)\n",
        "plt.xlabel('epochs')\n",
        "plt.ylabel('Loss')\n",
        "plt.title('object Loss')\n",
        "mount_drive()\n",
        "plt.savefig('../content/gdrive/My Drive/CIS680_2019/HW3a/rpn_loss_subsample.jpg')\n"
      ],
      "execution_count": 0,
      "outputs": []
    },
    {
      "cell_type": "markdown",
      "metadata": {
        "id": "mSyobxVWqBMA",
        "colab_type": "text"
      },
      "source": [
        "# Test your network\n",
        "\n"
      ]
    },
    {
      "cell_type": "code",
      "metadata": {
        "id": "6c0SdpUjqJ88",
        "colab_type": "code",
        "colab": {}
      },
      "source": [
        "def decode_prediction(preds, anchor_w, anchor_h, step = 16):\n",
        "  decode_mat = np.zeros_like(preds)\n",
        "  \n",
        "  rowv, colv = np.meshgrid(np.arange(0, preds.shape[1]), np.arange(0, preds.shape[0]))\n",
        "\n",
        "  decode_mat[:, :, 0], decode_mat[: ,:, 1] = rowv*step + step/2, colv*step + step/2\n",
        "  decode_mat[:, :, 2], decode_mat[: ,:, 3] = anchor_w, anchor_h\n",
        "\n",
        "  preds[:, :, 0] = preds[:, :, 0]*anchor_w + decode_mat[: ,:, 0]\n",
        "  preds[:, :, 1] = preds[:, :, 1]*anchor_h + decode_mat[: ,:, 1]\n",
        "  preds[:, :, 2] = np.exp(preds[:, :, 2])*anchor_w\n",
        "  preds[:, :, 3] = np.exp(preds[:, :, 3])*anchor_h\n",
        "\n",
        "  return preds\n",
        "\n",
        "\n",
        "def post_process_test(test_image, actual_label, rpn_label,processed_labels_obj, processed_label,\n",
        "                     anchor_w, anchor_asp,\n",
        "                    step = 16, w_im = 400, h_im = 300, normalized = False):\n",
        "\n",
        "  if isinstance(test_image, torch.Tensor):\n",
        "    if normalized:\n",
        "      re_norm = transforms.Compose([transforms.Normalize(mean=[-1,-1,-1],std=[2,2,2])])\n",
        "      test_image = re_norm(test_image).numpy()\n",
        "    processed_label = np.transpose(processed_label.numpy(), (1,2,0))\n",
        "    processed_labels_obj = np.transpose(processed_labels_obj.numpy(), (1,2,0))\n",
        "\n",
        "      \n",
        "  if len(test_image) <= 3:\n",
        "    test_image = np.transpose(test_image, (1, 2, 0))\n",
        "  \n",
        "  ctest_image = test_image.copy()\n",
        "  anchor_w = anchor_w*w_im\n",
        "  anchor_h = anchor_w/anchor_asp\n",
        "  processed_label_decon = decode_prediction(processed_label.copy(), anchor_w, anchor_h)\n",
        "  \n",
        "  ## plot image with true labels\n",
        "  \n",
        "  \n",
        "  plt.figure(figsize = (7,10))\n",
        "  plt.imshow(ctest_image, interpolation='nearest')\n",
        "\n",
        "  processed_labels_obj[rpn_label[:, :, 0] == -1] = 0\n",
        "\n",
        "  ax = plt.gca()\n",
        "\n",
        "  actual_label = actual_label[0]\n",
        "  if isinstance(actual_label, torch.Tensor):\n",
        "    actual_label = actual_label.numpy()\n",
        "\n",
        "  ax.grid(which='major', axis='both', linestyle='-')\n",
        "\n",
        "\n",
        "  ## Plot based on transformed image\n",
        "  prob = processed_labels_obj[:, :, 0].copy()\n",
        "\n",
        "  object_x, object_y = np.where(processed_labels_obj == 1)\n",
        "\n",
        "  dx, dy = 16,16\n",
        "\n",
        "  grid_color = -1\n",
        "\n",
        "\n",
        "  for i, (x,y) in enumerate(zip(object_x, object_y)):\n",
        "    top_x, top_y = processed_label_decon[x, y, 0] - processed_label_decon[x, y, 2]/2, processed_label_decon[x, y, 1] - processed_label_decon[x, y, 3]/2\n",
        "\n",
        "    rect = Rectangle((top_y,top_x),\n",
        "                     processed_label_decon[x, y, 2], processed_label_decon[x, y, 3],\n",
        "                     linewidth=1,edgecolor= 'r',\n",
        "                     facecolor='none')\n",
        "\n",
        "    ax.add_patch(rect)\n",
        "\n",
        "\n",
        "\n",
        "  object_x, object_y = np.where(processed_labels_obj == 0)\n",
        "\n",
        "  object_x, object_y = np.random.choice(object_x, 3), np.random.choice(object_y, 3)\n",
        "  \n",
        "  dx, dy = 16,16\n",
        "\n",
        "  grid_color = -1\n",
        " \n",
        "\n",
        "\n",
        "  for i, (x,y) in enumerate(zip(object_x, object_y)):\n",
        "    t_x, t_y = processed_label_decon[x, y, 0] -(processed_label_decon[x, y, 2])/2, processed_label_decon[x, y, 1] -(processed_label_decon[x, y, 3])/2\n",
        "\n",
        "    \n",
        "    rect = Rectangle((t_y,t_x),\n",
        "                     processed_label_decon[x, y, 2], processed_label_decon[x, y, 3],\n",
        "                     linewidth=2,edgecolor= 'r',\n",
        "                     facecolor='none')\n",
        "\n",
        "    \n",
        "    ax.add_patch(rect)\n",
        "\n",
        "  for i in range(len(actual_label)):\n",
        "\n",
        "    rect = Rectangle((actual_label[i,0],actual_label[i,1]),\n",
        "                      actual_label[i,2] - actual_label[i,0],\n",
        "                      actual_label[i,3] - actual_label[i,1],\n",
        "                      linewidth=4,edgecolor='g',facecolor='none'\n",
        "                      )\n",
        "\n",
        "\n",
        "\n",
        "    ax.add_patch(rect)\n",
        "    \n",
        "\n",
        "  \n",
        "\n",
        "  plt.show()\n",
        "\n",
        "  plt.subplot(1,2,1)\n",
        "  plt.imshow(prob)\n",
        "  plt.title('Predicted Probability')\n",
        "\n",
        "  plt.subplot(1,2,2)\n",
        "  plt.imshow(rpn_label[:, :, 0])\n",
        "  plt.title('True Probability')\n",
        "\n",
        "\n",
        "  plt.show()\n",
        "\n",
        "def plot_test(net, device,optimizer, criterion1, criterion2, test_loader, \n",
        "         anchor_w, anchor_asp):\n",
        "  net.eval()\n",
        "  data_iter = iter(test_loader)\n",
        "  with torch.no_grad():\n",
        "      for _ in range(8):\n",
        "     \n",
        "        images_te, rpn_labels_te, labels_te, actual_boxes_te  = next(data_iter)\n",
        "      \n",
        "\n",
        "      images_te = images_te.float().to(device)\n",
        "      rpn_labels_te = rpn_labels_te.float().to(device)\n",
        "      outputs_obj, outputs_region = net(images_te)\n",
        "\n",
        "      post_process_test(images_te.squeeze(0).cpu().float(), actual_boxes_te, rpn_labels_te.squeeze(0).cpu().float(),outputs_obj.squeeze(0).cpu().float(),\n",
        "                            outputs_region.squeeze(0).cpu().float(),\n",
        "                     anchor_w.astype(float), anchor_asp.astype(float),\n",
        "                    step = 16, w_im = 400, h_im = 300, normalized = True)\n",
        "\n"
      ],
      "execution_count": 0,
      "outputs": []
    },
    {
      "cell_type": "code",
      "metadata": {
        "id": "1Wk5KHUYfck-",
        "colab_type": "code",
        "outputId": "dc2a192b-da83-464c-b841-3f18a72b9437",
        "colab": {
          "base_uri": "https://localhost:8080/",
          "height": 54
        }
      },
      "source": [
        "mount_drive()\n",
        "reload_model = torch.load('../content/gdrive/My Drive/CIS680_2019/HW3a/rpn_model_subsample.pt')\n",
        "reload_model = reload_model.to(device)"
      ],
      "execution_count": 0,
      "outputs": [
        {
          "output_type": "stream",
          "text": [
            "Drive already mounted at /content/gdrive; to attempt to forcibly remount, call drive.mount(\"/content/gdrive\", force_remount=True).\n"
          ],
          "name": "stdout"
        }
      ]
    },
    {
      "cell_type": "code",
      "metadata": {
        "id": "W3au8Up9f3el",
        "colab_type": "code",
        "colab": {}
      },
      "source": [
        "dataloader_plot = DataLoader(dataset_test_hw3, batch_size=1,\n",
        "                        shuffle=False, num_workers=4, collate_fn=my_collate)\n",
        "dataloader_plot_train = DataLoader(dataset_train_hw3, batch_size=1,\n",
        "                        shuffle=False, num_workers=4, collate_fn=my_collate)"
      ],
      "execution_count": 0,
      "outputs": []
    },
    {
      "cell_type": "code",
      "metadata": {
        "id": "Ss-ixnR4gEZ-",
        "colab_type": "code",
        "outputId": "1ffd1e78-f63a-4aa1-9650-d15edf08658a",
        "colab": {
          "base_uri": "https://localhost:8080/",
          "height": 500
        }
      },
      "source": [
        "plot_test(reload_model, device,optimizer, criterion1, criterion2, dataloader_plot, \n",
        "         anchors[0], anchors[1])"
      ],
      "execution_count": 0,
      "outputs": [
        {
          "output_type": "display_data",
          "data": {
            "image/png": "[encoded data removed]",
            "text/plain": [
              "<Figure size 504x720 with 1 Axes>"
            ]
          },
          "metadata": {
            "tags": []
          }
        },
        {
          "output_type": "display_data",
          "data": {
            "image/png": "[encoded data removed]",
            "text/plain": [
              "<Figure size 432x288 with 2 Axes>"
            ]
          },
          "metadata": {
            "tags": []
          }
        }
      ]
    },
    {
      "cell_type": "code",
      "metadata": {
        "id": "m_vCzmdpzKg6",
        "colab_type": "code",
        "colab": {}
      },
      "source": [
        ""
      ],
      "execution_count": 0,
      "outputs": []
    }
  ]
}